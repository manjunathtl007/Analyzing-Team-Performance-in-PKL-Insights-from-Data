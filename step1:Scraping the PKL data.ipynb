{
 "cells": [
  {
   "cell_type": "markdown",
   "id": "32038ff4",
   "metadata": {},
   "source": [
    "First we import the necessary libraries"
   ]
  },
  {
   "cell_type": "code",
   "execution_count": null,
   "id": "3b6054c6",
   "metadata": {},
   "outputs": [],
   "source": [
    "from selenium import webdriver\n",
    "from selenium.webdriver.chrome.service import Service\n",
    "import time\n",
    "from bs4 import BeautifulSoup\n",
    "from selenium.webdriver.common.by import By\n",
    "import pandas as pd"
   ]
  },
  {
   "cell_type": "markdown",
   "id": "05b508a5",
   "metadata": {},
   "source": [
    "From below code we scraped the pkl data of team performance for all season and it saves different csv files"
   ]
  },
  {
   "cell_type": "code",
   "execution_count": null,
   "id": "0a356634",
   "metadata": {},
   "outputs": [],
   "source": [
    "options = webdriver.ChromeOptions()\n",
    "options.add_experimental_option('detach', True)\n",
    "#please make sure ur chromedriver path is correct for ur system\n",
    "service = Service('C:\\\\Users\\\\manjunathtl\\\\Downloads\\\\chromrdriver')\n",
    "driver = webdriver.Chrome(options = options, service = service)\n",
    "driver.maximize_window()\n",
    "driver.get('https://www.prokabaddi.com/stats/25-96-total-points-scored-statistics')\n",
    "time.sleep(3)\n",
    "\n",
    "soup = BeautifulSoup(driver.page_source, 'html5lib')\n",
    "driver.find_element(By.XPATH, '//div[@class=\"waf-select-box\"]').click()\n",
    "driver.find_element(By.XPATH, '//li[@class=\"list-item\"][10]').click()\n",
    "z = [1,6,7,8,9,10,11,12,13,14,15,16,17,18]\n",
    "o = 1\n",
    "for i in z:\n",
    "    driver.find_element(By.XPATH, '//div[@class=\"waf-select-box\"][2]').click()\n",
    "    time.sleep(3)\n",
    "    j = f'//div[@class=\"waf-select-box active\"]/div[2]/ul/li[{i}]'\n",
    "    driver.find_element(By.XPATH, j).click()\n",
    "    time.sleep(3)\n",
    "    a = []\n",
    "    b = []\n",
    "    c = []\n",
    "    d = []\n",
    "\n",
    "    for row in driver.find_elements(By.XPATH, '//div[@class=\"table-data rank\"]'):\n",
    "        pos = row.text\n",
    "        a.append(pos)\n",
    "    for row in driver.find_elements(By.XPATH, '//div[@class=\"table-data name\"]'):\n",
    "        team = row.text\n",
    "        b.append(team)\n",
    "    for row in driver.find_elements(By.XPATH, '//div[@class=\"table-data matches-played\"]'):\n",
    "        match = row.text\n",
    "        c.append(match)\n",
    "    for row in driver.find_elements(By.XPATH, '//div[@class=\"table-data total-points\"]'):\n",
    "        tp = row.text\n",
    "        d.append(tp)\n",
    "\n",
    "    time.sleep(3)\n",
    "    abcd = pd.DataFrame({'a':a, 'b':b, 'c':c, 'd':d})\n",
    "    print(abcd)\n",
    "    abcd.to_csv(f'file{o}.csv', index=False)\n",
    "    o+=1\n",
    "    \n",
    "driver.close()"
   ]
  },
  {
   "cell_type": "markdown",
   "id": "ec963626",
   "metadata": {},
   "source": [
    "From below code we scraped the data of each team performance from different website"
   ]
  },
  {
   "cell_type": "code",
   "execution_count": null,
   "id": "cb578f55",
   "metadata": {},
   "outputs": [],
   "source": [
    "options = webdriver.ChromeOptions()\n",
    "options.add_experimental_option('detach', True)\n",
    "#please make sure ur chromedriver path is correct for ur system\n",
    "service = Service('C:\\\\Users\\\\manjunathtl\\\\Downloads\\\\chromrdriver')\n",
    "driver = webdriver.Chrome(options = options, service = service)\n",
    "driver.maximize_window()\n",
    "driver.get('https://en.wikipedia.org/wiki/Pro_Kabaddi_League#Performance_of_all_the_teams_in_all_seasons')\n",
    "time.sleep(3)\n",
    "a = []\n",
    "b = []\n",
    "c = []\n",
    "d = []\n",
    "e = []\n",
    "f = []\n",
    "g = []\n",
    "h = []\n",
    "j = []\n",
    "for i in driver.find_elements(By.XPATH, '//*[@id=\"mw-content-text\"]/div[1]/table[6]/tbody/tr/td[1]'):\n",
    "    a.append(i.text)\n",
    "for i in driver.find_elements(By.XPATH, '//*[@id=\"mw-content-text\"]/div[1]/table[6]/tbody/tr/td[2]'):\n",
    "    b.append(i.text)\n",
    "for i in driver.find_elements(By.XPATH, '//*[@id=\"mw-content-text\"]/div[1]/table[6]/tbody/tr/td[3]'):\n",
    "    c.append(i.text)\n",
    "for i in driver.find_elements(By.XPATH, '//*[@id=\"mw-content-text\"]/div[1]/table[6]/tbody/tr/td[4]'):\n",
    "    d.append(i.text)   \n",
    "for i in driver.find_elements(By.XPATH, '//*[@id=\"mw-content-text\"]/div[1]/table[6]/tbody/tr/td[5]'):\n",
    "    e.append(i.text)    \n",
    "for i in driver.find_elements(By.XPATH, '//*[@id=\"mw-content-text\"]/div[1]/table[6]/tbody/tr/td[6]'):\n",
    "    f.append(i.text)    \n",
    "for i in driver.find_elements(By.XPATH, '//*[@id=\"mw-content-text\"]/div[1]/table[6]/tbody/tr/td[7]'):\n",
    "    g.append(i.text)\n",
    "for i in driver.find_elements(By.XPATH, '//*[@id=\"mw-content-text\"]/div[1]/table[6]/tbody/tr/td[8]'):\n",
    "    h.append(i.text)\n",
    "for i in driver.find_elements(By.XPATH, '//*[@id=\"mw-content-text\"]/div[1]/table[6]/tbody/tr/th'):\n",
    "    j.append(i.text)    \n",
    "a.pop()\n",
    "    \n",
    "mm = pd.DataFrame({'Played':a, 'Won':b, 'Loss':c, 'Draw':d, 'Won%':e, 'Loss%':f, 'Draw%':g, 'Trophy':h, 'Team':j})\n",
    "driver.close()\n",
    "mm.to_csv('performance.csv', index=False)"
   ]
  },
  {
   "cell_type": "markdown",
   "id": "63771113",
   "metadata": {},
   "source": [
    "From above two codes we import the total 15 csv file. For joining the dataset we then use the mysql workbech"
   ]
  },
  {
   "cell_type": "code",
   "execution_count": null,
   "id": "409d2201",
   "metadata": {},
   "outputs": [],
   "source": []
  },
  {
   "cell_type": "raw",
   "id": "14e6ea24",
   "metadata": {},
   "source": []
  },
  {
   "cell_type": "code",
   "execution_count": null,
   "id": "36920ee1",
   "metadata": {},
   "outputs": [],
   "source": []
  }
 ],
 "metadata": {
  "kernelspec": {
   "display_name": "Python 3 (ipykernel)",
   "language": "python",
   "name": "python3"
  },
  "language_info": {
   "codemirror_mode": {
    "name": "ipython",
    "version": 3
   },
   "file_extension": ".py",
   "mimetype": "text/x-python",
   "name": "python",
   "nbconvert_exporter": "python",
   "pygments_lexer": "ipython3",
   "version": "3.9.13"
  }
 },
 "nbformat": 4,
 "nbformat_minor": 5
}
